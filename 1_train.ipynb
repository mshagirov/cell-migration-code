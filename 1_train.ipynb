{
 "cells": [
  {
   "cell_type": "markdown",
   "id": "d5980ebb-8440-4889-a46c-d4521c2ccd5a",
   "metadata": {},
   "source": [
    "# Model Training Notebook"
   ]
  },
  {
   "cell_type": "code",
   "execution_count": 1,
   "id": "c52657e7-9b88-4ce8-ace8-3524ea6577a4",
   "metadata": {},
   "outputs": [],
   "source": [
    "# Requirements\n",
    "# (update pip)\n",
    "# fastai\n",
    "# scikit-image"
   ]
  },
  {
   "cell_type": "markdown",
   "id": "578f7c93-82c9-403a-a168-23c095938ca9",
   "metadata": {},
   "source": [
    "---"
   ]
  },
  {
   "cell_type": "markdown",
   "id": "6c440062-7411-4d61-acbb-51dfde0efd77",
   "metadata": {},
   "source": [
    "Package versions and available devices:"
   ]
  },
  {
   "cell_type": "code",
   "execution_count": 4,
   "id": "187678a1-afc2-4aa8-9f1d-9e5247de0514",
   "metadata": {
    "tags": []
   },
   "outputs": [
    {
     "name": "stdout",
     "output_type": "stream",
     "text": [
      "fastai version : 2.7.12\n",
      "PyTorch version: 2.0.1\n",
      "Number of GPUs : 0\n",
      "Device         : cpu\n"
     ]
    }
   ],
   "source": [
    "import fastai\n",
    "import torch\n",
    "\n",
    "\n",
    "\n",
    "device = torch.device('cuda' if torch.cuda.is_available() else 'cpu')\n",
    "\n",
    "print(f\"fastai version : {fastai.__version__}\")\n",
    "print(f\"PyTorch version: {torch.__version__}\")\n",
    "print(f\"Number of GPUs : {torch.cuda.device_count()}\")\n",
    "print(f\"Device         : {device}\")"
   ]
  },
  {
   "cell_type": "code",
   "execution_count": 5,
   "id": "be6dbbbc-4ccf-4423-82f1-c83bdd9229dc",
   "metadata": {},
   "outputs": [],
   "source": [
    "from fastai.vision.all import *\n",
    "from fastai.data.all import *\n",
    "\n",
    "from pathlib import Path"
   ]
  },
  {
   "cell_type": "code",
   "execution_count": 6,
   "id": "1a0d467e-2a1d-4085-b26b-cc07fda4c787",
   "metadata": {},
   "outputs": [],
   "source": [
    "import skimage.io"
   ]
  },
  {
   "cell_type": "code",
   "execution_count": 7,
   "id": "405adaef-b5ac-4af5-9bdc-f320e1c67ede",
   "metadata": {},
   "outputs": [],
   "source": [
    "# RNG for frame selection\n",
    "nprng = np.random.default_rng(123)\n",
    "\n",
    "def imread2pil_train(fpath):\n",
    "    '''\n",
    "    read the middle frame and convert to PIL image.\n",
    "    \n",
    "    Image files should contain 3 channels.\n",
    "    '''\n",
    "    # use print to test datasets:\n",
    "    # print(fpath)\n",
    "    \n",
    "    im = skimage.io.imread(str(fpath))\n",
    "    \n",
    "    # assuming images have 3 channels:\n",
    "    if im.ndim<4:\n",
    "        im = im[np.newaxis,...]\n",
    "    \n",
    "    # later need to add separate normalization for each channel,\n",
    "    # now using only 2nd ch:CH1 of CH:0-2\n",
    "    im = np.uint8( 255 * (im/im[:,:,:,1].max()) )\n",
    "    \n",
    "    # Filter\n",
    "    # integrate CH1 along x-axis and find max inten-y (\"nucleus\")\n",
    "    Iy = im[...,1].sum(axis=-1).argmax(axis=1)\n",
    "    \n",
    "    # frames w/ cells >10% away from the top/bottom edge\n",
    "    mask = np.abs(Iy - im.shape[1]/2)/im.shape[1] < 0.4\n",
    "    # if possible, select frames with nuclei away from the edge (visible)\n",
    "    im = im[...,1][mask] if mask.any() else im[...,1] # only ch=1\n",
    "    \n",
    "    # Is est. avg location of nuclei on the top half (True)\n",
    "    is_top = np.mean(Iy[mask] if mask.any() else Iy) < im.shape[1]/2 # False--> bottom\n",
    "    \n",
    "    # range of y-axis to remove empty region (e.g., if is_top==True, then remove bottom)\n",
    "    y_ids = [0, min([224, im.shape[1]])] if is_top else [max([im.shape[1]-224, 0]), im.shape[1]]\n",
    "    im = im[:,y_ids[0]:y_ids[1],:]\n",
    "    \n",
    "    if fpath.parents[1].name==\"train\":\n",
    "        # select random frame if it's training data:\n",
    "        frame_id = nprng.integers(im.shape[0])\n",
    "    else:\n",
    "        # for val data use middle frame\n",
    "        frame_id = im.shape[0]//2\n",
    "    return PILImage.create(im[frame_id])"
   ]
  },
  {
   "cell_type": "markdown",
   "id": "73dddab4-033b-4b80-9d64-b565528cc124",
   "metadata": {},
   "source": [
    "---\n",
    "A similar image loading func-n for the prediction stage:"
   ]
  },
  {
   "cell_type": "code",
   "execution_count": 8,
   "id": "772a526d-b891-469a-9339-cecdebc8359c",
   "metadata": {},
   "outputs": [],
   "source": [
    "def imread2pil(fpath):\n",
    "    '''\n",
    "    read the middle frame and convert to PIL image.\n",
    "    \n",
    "    Image files should contain 3 channels.\n",
    "    '''\n",
    "    # use print to test datasets:\n",
    "    # print(fpath)\n",
    "    \n",
    "    im = skimage.io.imread(str(fpath))\n",
    "    \n",
    "    # assuming images have 3 channels:\n",
    "    if im.ndim<4:\n",
    "        im = im[np.newaxis,...]\n",
    "    \n",
    "    # later need to add separate normalization for each channel,\n",
    "    # now using only 2nd ch:CH1 of CH:0-2\n",
    "    im = np.uint8( 255 * (im/im[:,:,:,1].max()) )\n",
    "    \n",
    "    frame_id = im.shape[0]//2\n",
    "    return PILImage.create(im[frame_id][:,:,1])"
   ]
  },
  {
   "cell_type": "markdown",
   "id": "5826846b-54b3-4b17-b3f0-288269a1e77d",
   "metadata": {},
   "source": [
    "***Location of training dataset (main folder that contains \"yes\"/\"no\" folders)***:\n",
    "> If the dataset is randomly split, e.g. 80% training and 20% validation, use seed for reproducibility, you need consistent train and val datasets to compare different models and training conditions.\n",
    "\n",
    "- The original dataset contained images with either single channel. I manually removed these images into a separate folder.\n",
    "\n",
    "- *Below, I assume all images have 3 channels*."
   ]
  },
  {
   "cell_type": "code",
   "execution_count": 9,
   "id": "75b7bc33-bf4f-4730-a535-19a80df9213e",
   "metadata": {},
   "outputs": [],
   "source": [
    "#\n",
    "# data_path = Path('/mnt/mbi/images/micros/murat/dataDIR/maria_21072023/')\n",
    "data_path = Path('../../dataDIR/maria_21072023/dataset/')"
   ]
  },
  {
   "cell_type": "code",
   "execution_count": 10,
   "id": "1ea89331-ebf2-4d50-bde5-12c8269031e2",
   "metadata": {},
   "outputs": [],
   "source": [
    "# im2 = Resize(224)(PILImage.create(im[0,...,1]))"
   ]
  },
  {
   "cell_type": "code",
   "execution_count": 11,
   "id": "b992ea72-be03-4970-9fc8-3157b7ae4425",
   "metadata": {},
   "outputs": [],
   "source": [
    "cell_dataset = DataBlock(blocks=(ImageBlock(cls=PILImageBW), CategoryBlock), \n",
    "                         get_items=get_image_files,\n",
    "                         splitter=GrandparentSplitter(),\n",
    "                         get_x=imread2pil_train,\n",
    "                         get_y=parent_label,\n",
    "                         item_tfms = Resize(224)\n",
    "                        )\n",
    "\n",
    "# debugging: use `cell_dataset.summary(data_path)`"
   ]
  },
  {
   "cell_type": "code",
   "execution_count": 13,
   "id": "c2c95b66-290a-4d00-9122-de10d735bcf8",
   "metadata": {},
   "outputs": [
    {
     "data": {
      "image/png": "[encoded data removed]",
      "text/plain": [
       "<Figure size 400x400 with 9 Axes>"
      ]
     },
     "metadata": {},
     "output_type": "display_data"
    }
   ],
   "source": [
    "dls = cell_dataset.dataloaders(data_path)\n",
    "dls.show_batch(max_n=9, figsize=(4,4))"
   ]
  },
  {
   "cell_type": "code",
   "execution_count": 14,
   "id": "8065bc02-027c-48be-94d0-2ade1bf40aae",
   "metadata": {},
   "outputs": [
    {
     "name": "stdout",
     "output_type": "stream",
     "text": [
      "Dataset sizes: \"train, val\"--> [346, 88]\n"
     ]
    }
   ],
   "source": [
    "print('Dataset sizes: \\\"train, val\\\"-->',[len(k) for k in dls.splits])"
   ]
  },
  {
   "cell_type": "code",
   "execution_count": 17,
   "id": "8ec5c7b0-2da0-4ef1-b6db-568be23382f6",
   "metadata": {},
   "outputs": [],
   "source": [
    "learn = vision_learner(dls, resnet34, metrics=error_rate)"
   ]
  },
  {
   "cell_type": "code",
   "execution_count": 16,
   "id": "b59e6e5f-0a5b-4821-8215-c278d9ae62f6",
   "metadata": {},
   "outputs": [
    {
     "data": {
      "text/html": [
       "\n",
       "<style>\n",
       "    /* Turns off some styling */\n",
       "    progress {\n",
       "        /* gets rid of default border in Firefox and Opera. */\n",
       "        border: none;\n",
       "        /* Needs to be in here for Safari polyfill so background images work as expected. */\n",
       "        background-size: auto;\n",
       "    }\n",
       "    progress:not([value]), progress:not([value])::-webkit-progress-bar {\n",
       "        background: repeating-linear-gradient(45deg, #7e7e7e, #7e7e7e 10px, #5c5c5c 10px, #5c5c5c 20px);\n",
       "    }\n",
       "    .progress-bar-interrupted, .progress-bar-interrupted::-webkit-progress-bar {\n",
       "        background: #F44336;\n",
       "    }\n",
       "</style>\n"
      ],
      "text/plain": [
       "<IPython.core.display.HTML object>"
      ]
     },
     "metadata": {},
     "output_type": "display_data"
    },
    {
     "data": {
      "text/html": [
       "<table border=\"1\" class=\"dataframe\">\n",
       "  <thead>\n",
       "    <tr style=\"text-align: left;\">\n",
       "      <th>epoch</th>\n",
       "      <th>train_loss</th>\n",
       "      <th>valid_loss</th>\n",
       "      <th>error_rate</th>\n",
       "      <th>time</th>\n",
       "    </tr>\n",
       "  </thead>\n",
       "  <tbody>\n",
       "    <tr>\n",
       "      <td>0</td>\n",
       "      <td>1.294775</td>\n",
       "      <td>1.487729</td>\n",
       "      <td>1.000000</td>\n",
       "      <td>00:18</td>\n",
       "    </tr>\n",
       "  </tbody>\n",
       "</table>"
      ],
      "text/plain": [
       "<IPython.core.display.HTML object>"
      ]
     },
     "metadata": {},
     "output_type": "display_data"
    },
    {
     "data": {
      "text/html": [
       "\n",
       "<style>\n",
       "    /* Turns off some styling */\n",
       "    progress {\n",
       "        /* gets rid of default border in Firefox and Opera. */\n",
       "        border: none;\n",
       "        /* Needs to be in here for Safari polyfill so background images work as expected. */\n",
       "        background-size: auto;\n",
       "    }\n",
       "    progress:not([value]), progress:not([value])::-webkit-progress-bar {\n",
       "        background: repeating-linear-gradient(45deg, #7e7e7e, #7e7e7e 10px, #5c5c5c 10px, #5c5c5c 20px);\n",
       "    }\n",
       "    .progress-bar-interrupted, .progress-bar-interrupted::-webkit-progress-bar {\n",
       "        background: #F44336;\n",
       "    }\n",
       "</style>\n"
      ],
      "text/plain": [
       "<IPython.core.display.HTML object>"
      ]
     },
     "metadata": {},
     "output_type": "display_data"
    },
    {
     "data": {
      "text/html": [
       "<table border=\"1\" class=\"dataframe\">\n",
       "  <thead>\n",
       "    <tr style=\"text-align: left;\">\n",
       "      <th>epoch</th>\n",
       "      <th>train_loss</th>\n",
       "      <th>valid_loss</th>\n",
       "      <th>error_rate</th>\n",
       "      <th>time</th>\n",
       "    </tr>\n",
       "  </thead>\n",
       "  <tbody>\n",
       "    <tr>\n",
       "      <td>0</td>\n",
       "      <td>1.277735</td>\n",
       "      <td>1.445460</td>\n",
       "      <td>1.000000</td>\n",
       "      <td>00:30</td>\n",
       "    </tr>\n",
       "  </tbody>\n",
       "</table>"
      ],
      "text/plain": [
       "<IPython.core.display.HTML object>"
      ]
     },
     "metadata": {},
     "output_type": "display_data"
    }
   ],
   "source": [
    "learn.fine_tune(1)"
   ]
  },
  {
   "cell_type": "code",
   "execution_count": 20,
   "id": "b35efb9d-d25f-403c-b87d-db3a7cb53973",
   "metadata": {},
   "outputs": [],
   "source": [
    "# img_fns = get_image_files(data_path)\n",
    "# pil_img_k = imread2pil(img_fns[230]); pil_img_k\n",
    "# img_fns[230]"
   ]
  },
  {
   "cell_type": "code",
   "execution_count": 113,
   "id": "59ecc478-b4b6-4b3f-8bd8-59f550d01148",
   "metadata": {},
   "outputs": [
    {
     "data": {
      "text/html": [
       "\n",
       "<style>\n",
       "    /* Turns off some styling */\n",
       "    progress {\n",
       "        /* gets rid of default border in Firefox and Opera. */\n",
       "        border: none;\n",
       "        /* Needs to be in here for Safari polyfill so background images work as expected. */\n",
       "        background-size: auto;\n",
       "    }\n",
       "    progress:not([value]), progress:not([value])::-webkit-progress-bar {\n",
       "        background: repeating-linear-gradient(45deg, #7e7e7e, #7e7e7e 10px, #5c5c5c 10px, #5c5c5c 20px);\n",
       "    }\n",
       "    .progress-bar-interrupted, .progress-bar-interrupted::-webkit-progress-bar {\n",
       "        background: #F44336;\n",
       "    }\n",
       "</style>\n"
      ],
      "text/plain": [
       "<IPython.core.display.HTML object>"
      ]
     },
     "metadata": {},
     "output_type": "display_data"
    },
    {
     "data": {
      "text/html": [],
      "text/plain": [
       "<IPython.core.display.HTML object>"
      ]
     },
     "metadata": {},
     "output_type": "display_data"
    },
    {
     "data": {
      "text/plain": [
       "('no', tensor(0), tensor([0.9435, 0.0565]))"
      ]
     },
     "execution_count": 113,
     "metadata": {},
     "output_type": "execute_result"
    }
   ],
   "source": [
    "# # Need to use --> Resize(224)(input_img) to match training data\n",
    "# learn.predict(Resize(224)(pil_img_k))"
   ]
  },
  {
   "cell_type": "code",
   "execution_count": 16,
   "id": "485d4764-36f6-4997-b0c4-42410320263c",
   "metadata": {},
   "outputs": [
    {
     "data": {
      "text/plain": [
       "Path('models/test.pth')"
      ]
     },
     "execution_count": 16,
     "metadata": {},
     "output_type": "execute_result"
    }
   ],
   "source": [
    "learn.save('./test')"
   ]
  },
  {
   "cell_type": "code",
   "execution_count": 58,
   "id": "439449d9-a7c5-4bb2-bf9d-3cd967f54633",
   "metadata": {},
   "outputs": [],
   "source": [
    "# Downloaded model weight are stored at:\n",
    "# torch.hub.get_dir()\n",
    "# e.g.\n",
    "# ~/.cache/torch/hub/checkpoints # for Mac OS"
   ]
  },
  {
   "cell_type": "code",
   "execution_count": 44,
   "id": "535ad3eb-4436-4c93-b489-1abc2ad47538",
   "metadata": {},
   "outputs": [],
   "source": [
    "# re-initialise the model with a downloaded model (trained on IMAGENET dataset)\n",
    "# pre-trained models (torchhub): from torchvision.models import resnet34\n",
    "# \n",
    "learn = vision_learner(dls, resnet34, metrics=error_rate)"
   ]
  },
  {
   "cell_type": "code",
   "execution_count": 21,
   "id": "8b0ded41-4242-4d50-9166-a26e08f770d8",
   "metadata": {},
   "outputs": [
    {
     "data": {
      "text/plain": [
       "<fastai.learner.Learner at 0x7fee74aa3340>"
      ]
     },
     "execution_count": 21,
     "metadata": {},
     "output_type": "execute_result"
    }
   ],
   "source": [
    "# load previously saved weights\n",
    "learn.load('./test')"
   ]
  },
  {
   "cell_type": "code",
   "execution_count": 62,
   "id": "919622d0-20e0-483f-b4ae-e9309cc1b516",
   "metadata": {},
   "outputs": [],
   "source": [
    "# continue training\n",
    "#\n",
    "# learn.fine_tune(...)"
   ]
  },
  {
   "cell_type": "code",
   "execution_count": null,
   "id": "58e93ef5-c40f-4bad-8ca3-cf9093f4826e",
   "metadata": {},
   "outputs": [],
   "source": []
  }
 ],
 "metadata": {
  "kernelspec": {
   "display_name": "Python [conda env:fastai]",
   "language": "python",
   "name": "conda-env-fastai-py"
  },
  "language_info": {
   "codemirror_mode": {
    "name": "ipython",
    "version": 3
   },
   "file_extension": ".py",
   "mimetype": "text/x-python",
   "name": "python",
   "nbconvert_exporter": "python",
   "pygments_lexer": "ipython3",
   "version": "3.9.17"
  }
 },
 "nbformat": 4,
 "nbformat_minor": 5
}
