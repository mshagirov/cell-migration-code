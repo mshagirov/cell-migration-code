{
 "cells": [
  {
   "cell_type": "markdown",
   "id": "b6b5a4a6-d7f7-4eea-85a9-603e65775e51",
   "metadata": {},
   "source": [
    "The **fastai** Deep Learning Library\n",
    "===\n",
    "> Documentation and tutorial: https://docs.fast.ai"
   ]
  },
  {
   "cell_type": "code",
   "execution_count": 24,
   "id": "3ae6a3c7-d862-4453-80a7-53f08dc44115",
   "metadata": {},
   "outputs": [
    {
     "name": "stdout",
     "output_type": "stream",
     "text": [
      "PyTorch version: 2.0.1\n",
      "Number of GPUs : 0\n",
      "Device         : cpu\n"
     ]
    }
   ],
   "source": [
    "import torch\n",
    "\n",
    "device = torch.device('cuda' if torch.cuda.is_available() else 'cpu')\n",
    "\n",
    "print(f\"PyTorch version: {torch.__version__}\")\n",
    "print(f\"Number of GPUs : {torch.cuda.device_count()}\")\n",
    "print(f\"Device         : {device}\")"
   ]
  },
  {
   "cell_type": "code",
   "execution_count": null,
   "id": "193420cd-8da2-4d9c-9abe-c24fea032c61",
   "metadata": {},
   "outputs": [],
   "source": []
  }
 ],
 "metadata": {
  "kernelspec": {
   "display_name": "Python [conda env:fastai]",
   "language": "python",
   "name": "conda-env-fastai-py"
  },
  "language_info": {
   "codemirror_mode": {
    "name": "ipython",
    "version": 3
   },
   "file_extension": ".py",
   "mimetype": "text/x-python",
   "name": "python",
   "nbconvert_exporter": "python",
   "pygments_lexer": "ipython3",
   "version": "3.11.4"
  }
 },
 "nbformat": 4,
 "nbformat_minor": 5
}
