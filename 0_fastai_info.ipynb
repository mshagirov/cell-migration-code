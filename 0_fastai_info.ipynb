{
 "cells": [
  {
   "cell_type": "markdown",
   "id": "b6b5a4a6-d7f7-4eea-85a9-603e65775e51",
   "metadata": {},
   "source": [
    "The **fastai** Deep Learning Library\n",
    "===\n",
    "> Documentation and tutorial: https://docs.fast.ai"
   ]
  },
  {
   "cell_type": "markdown",
   "id": "a0fa8166-c361-403f-b06b-a871911cdcdb",
   "metadata": {},
   "source": [
    "Package versions and available devices:"
   ]
  },
  {
   "cell_type": "code",
   "execution_count": 1,
   "id": "3ae6a3c7-d862-4453-80a7-53f08dc44115",
   "metadata": {},
   "outputs": [
    {
     "name": "stderr",
     "output_type": "stream",
     "text": [
      "/mnt/mbi/home/muratmbit/miniconda3/envs/fastai/lib/python3.9/site-packages/tqdm/auto.py:21: TqdmWarning: IProgress not found. Please update jupyter and ipywidgets. See https://ipywidgets.readthedocs.io/en/stable/user_install.html\n",
      "  from .autonotebook import tqdm as notebook_tqdm\n"
     ]
    },
    {
     "name": "stdout",
     "output_type": "stream",
     "text": [
      "fastai version : 2.7.12\n",
      "PyTorch version: 1.12.1\n",
      "Number of GPUs : 1\n",
      "Device         : cuda\n"
     ]
    }
   ],
   "source": [
    "import fastai\n",
    "import torch\n",
    "\n",
    "device = torch.device('cuda' if torch.cuda.is_available() else 'cpu')\n",
    "\n",
    "print(f\"fastai version : {fastai.__version__}\")\n",
    "print(f\"PyTorch version: {torch.__version__}\")\n",
    "print(f\"Number of GPUs : {torch.cuda.device_count()}\")\n",
    "print(f\"Device         : {device}\")"
   ]
  },
  {
   "cell_type": "code",
   "execution_count": 2,
   "id": "41ec8229-9c62-47e8-be9b-f5201f5f9f82",
   "metadata": {},
   "outputs": [],
   "source": [
    "from fastai.vision.all import *"
   ]
  },
  {
   "cell_type": "code",
   "execution_count": null,
   "id": "a2229c8b-ee0c-429c-9d9d-1e1c19b60ef5",
   "metadata": {},
   "outputs": [],
   "source": []
  }
 ],
 "metadata": {
  "kernelspec": {
   "display_name": "Python [conda env:fastai]",
   "language": "python",
   "name": "conda-env-fastai-py"
  },
  "language_info": {
   "codemirror_mode": {
    "name": "ipython",
    "version": 3
   },
   "file_extension": ".py",
   "mimetype": "text/x-python",
   "name": "python",
   "nbconvert_exporter": "python",
   "pygments_lexer": "ipython3",
   "version": "3.9.17"
  }
 },
 "nbformat": 4,
 "nbformat_minor": 5
}
